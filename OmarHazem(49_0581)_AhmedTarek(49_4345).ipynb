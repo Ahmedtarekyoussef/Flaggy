{
  "nbformat": 4,
  "nbformat_minor": 0,
  "metadata": {
    "colab": {
      "provenance": [],
      "collapsed_sections": [
        "jlfFGU6__NDR",
        "Iv0uw0K3KCJ5",
        "yqeuILyjANir"
      ]
    },
    "kernelspec": {
      "name": "python3",
      "display_name": "Python 3"
    },
    "language_info": {
      "name": "python"
    }
  },
  "cells": [
    {
      "cell_type": "markdown",
      "source": [
        "# Omar Hazem Wagdy 49-0581 T-5\n",
        "\n",
        "# Ahmed Tarek Youssef 49-4345 T-5 "
      ],
      "metadata": {
        "id": "J2lsF80ViJAb"
      }
    },
    {
      "cell_type": "markdown",
      "source": [
        "# **AES Encryption**"
      ],
      "metadata": {
        "id": "jlfFGU6__NDR"
      }
    },
    {
      "cell_type": "code",
      "source": [
        "# Installing\n",
        "! pip install pycrypto\n",
        "! pip install pycryptodome\n",
        "! pip install cryptography"
      ],
      "metadata": {
        "colab": {
          "base_uri": "https://localhost:8080/"
        },
        "id": "Fj0ZPti1BXq1",
        "outputId": "ddb59957-69a3-4df5-c1af-21696e4ca200"
      },
      "execution_count": null,
      "outputs": [
        {
          "output_type": "stream",
          "name": "stdout",
          "text": [
            "Looking in indexes: https://pypi.org/simple, https://us-python.pkg.dev/colab-wheels/public/simple/\n",
            "Requirement already satisfied: pycrypto in /usr/local/lib/python3.7/dist-packages (2.6.1)\n",
            "Looking in indexes: https://pypi.org/simple, https://us-python.pkg.dev/colab-wheels/public/simple/\n",
            "Requirement already satisfied: pycryptodome in /usr/local/lib/python3.7/dist-packages (3.16.0)\n",
            "Looking in indexes: https://pypi.org/simple, https://us-python.pkg.dev/colab-wheels/public/simple/\n",
            "Requirement already satisfied: cryptography in /usr/local/lib/python3.7/dist-packages (38.0.3)\n",
            "Requirement already satisfied: cffi>=1.12 in /usr/local/lib/python3.7/dist-packages (from cryptography) (1.15.1)\n",
            "Requirement already satisfied: pycparser in /usr/local/lib/python3.7/dist-packages (from cffi>=1.12->cryptography) (2.21)\n"
          ]
        }
      ]
    },
    {
      "cell_type": "code",
      "execution_count": null,
      "metadata": {
        "id": "-8GMoviG9xnF"
      },
      "outputs": [],
      "source": [
        "#           00   01   02   03   04   05   06   07   08   09   0a   0b   0c   0d   0e   0f\n",
        "s_box = [['63','7c','77','7b','f2','6b','6f','c5','30','01','67','2b','fe','d7','ab','76'], #00\n",
        "         ['ca','82','c9','7d','fa','59','47','f0','ad','d4','a2','af','9c','a4','72','c0'], #10\n",
        "         ['b7','fd','93','26','36','3f','f7','cc','34','a5','e5','f1','71','d8','31','15'], #20\n",
        "         ['04','c7','23','c3','18','96','05','9a','07','12','80','e2','eb','27','b2','75'], #30\n",
        "         ['09','83','2c','1a','1b','6e','5a','a0','52','3b','d6','b3','29','e3','2f','04'], #40\n",
        "         ['53','d1','00','ed','20','fc','b1','5b','6a','cb','be','39','4a','4c','58','cf'], #50\n",
        "         ['d0',\"ef\",'aa','fb','43','4d','33','85','45','f9','02','7f','50',\"3c\",'9f',\"a8\"], #60\n",
        "         ['51','a3',\"40\",'8f','92','9d','38','f5','bc','b6','da','21','10','ff','f3','d2'], #70\n",
        "         ['cd','0c','13','ec','5f','97','44','17','c4','a7','7e','3d','64','5d','19','73'], #80\n",
        "         ['60','81','4f','dc','22','2a','90','88','46','ee','b8','14','de','5e','0b','db'], #90\n",
        "         ['e0','32','3a','0a','49','06','24','5c','c2','d3','ac','62','91','95','e4','79'], #a0\n",
        "         ['e7','c8','37','6d','8d','d5','4e','a9','6c','56','f4','ea','65','7a','ae','08'], #b0\n",
        "         ['ba','78','25','2e','1c','a6','b4','c6','e8','dd','74','1f','4b','bd','8b','8a'], #c0\n",
        "         ['70','3e','b5','66','48','03','f6','0e','61','35','57','b9','86','c1','1d','9e'], #d0\n",
        "         ['e1','f8','98','11','69','d9','8e','94','9b','1e','87','e9','ce','55','28','df'], #e0\n",
        "         ['8c','a1','89','0d','bf','e6','42','68','41','99','2d','0f','b0','54','bb','16']] #f0"
      ]
    },
    {
      "cell_type": "markdown",
      "source": [
        "# **Helper functions**\n",
        "\n",
        "\n",
        "> Helper functions are functions that are used to help us in the main aes functions\n",
        "\n"
      ],
      "metadata": {
        "id": "Iv0uw0K3KCJ5"
      }
    },
    {
      "cell_type": "code",
      "source": [
        "#change a given matrix data type from hex to int\n",
        "import numpy as np\n",
        "def hexToInt(my_matrix):\n",
        "\n",
        "  result = np.arange(16).reshape(4,4)\n",
        "\n",
        "  i=0;j=0;\n",
        "  while j<len(my_matrix):\n",
        "    i=0\n",
        "    while i<4:\n",
        "      x= my_matrix[i][j]\n",
        "      y=int(x, 16)\n",
        "      result[i][j]=y\n",
        "      i+=1\n",
        "    j+=1\n",
        "    \n",
        "  return result"
      ],
      "metadata": {
        "id": "A9etOv-EKKfI"
      },
      "execution_count": null,
      "outputs": []
    },
    {
      "cell_type": "code",
      "source": [
        "#change a given matrix data type from int to hex\n",
        "\n",
        "import numpy as np\n",
        "def intToHex(my_matrix):\n",
        "  result=np.array([['00','00','00','00'],\n",
        "                       ['00','00','00','00'],\n",
        "                       ['00','00','00','00'],\n",
        "                       ['00','00','00','00']])\n",
        "  i=0;j=0;\n",
        "  while j<len(my_matrix):\n",
        "    i=0\n",
        "    while i<4:\n",
        "      x= (my_matrix[i][j])\n",
        "      res = hex(x)\n",
        "      if(len(res)<=3):\n",
        "        char2='0';char3=res[2]\n",
        "      else:\n",
        "        char2=res[2];char3=res[3]\n",
        "      final=char2+char3\n",
        "      result[i][j]=final\n",
        "      i+=1\n",
        "    j+=1\n",
        "    \n",
        "  return result"
      ],
      "metadata": {
        "id": "WifNJxO_TqB8"
      },
      "execution_count": null,
      "outputs": []
    },
    {
      "cell_type": "code",
      "source": [
        "# Indexing Function that will return the index to be used in byte substitution\n",
        "def indexing(s_col):\n",
        "  if s_col   == 'a':\n",
        "            s_col = 10\n",
        "  elif s_col == 'b':\n",
        "            s_col = 11\n",
        "  elif s_col == 'c':\n",
        "            s_col = 12\n",
        "  elif s_col == 'd':\n",
        "            s_col = 13\n",
        "  elif s_col == 'e':\n",
        "            s_col = 14\n",
        "  elif s_col == 'f':\n",
        "            s_col = 15\n",
        "  else:\n",
        "            s_col = int(s_col)\n",
        "            \n",
        "  return s_col"
      ],
      "metadata": {
        "id": "QmoWjFfKxzeY"
      },
      "execution_count": null,
      "outputs": []
    },
    {
      "cell_type": "code",
      "source": [
        "#A helping function that is used in the mix columns function in order to retrive the values in a given matrix\n",
        "def getValues(row,column,resultMatrix):\n",
        " a=resultMatrix[row][column]\n",
        " prefix='0x'\n",
        " a=prefix+a\n",
        " an_integer = int(a, 16)\n",
        " return an_integer"
      ],
      "metadata": {
        "id": "iXaNnCoABEjw"
      },
      "execution_count": null,
      "outputs": []
    },
    {
      "cell_type": "code",
      "source": [
        "# A function that transforms the output cipher matrix to a cipher text (String)\n",
        "\n",
        "def finalString(my_matrix):\n",
        "\n",
        "  resultString=\"\"\n",
        "  \n",
        "  i=0;j=0;\n",
        "  while j<len(my_matrix):\n",
        "    i=0\n",
        "    while i<4:\n",
        "      result= str(my_matrix[i][j])\n",
        "      resultString=resultString+result\n",
        "      i+=1\n",
        "    j+=1\n",
        "    \n",
        "  return resultString"
      ],
      "metadata": {
        "id": "Axk7OmO6HX_k"
      },
      "execution_count": null,
      "outputs": []
    },
    {
      "cell_type": "code",
      "source": [
        "# a function that makes the PKCS7 Padding\n",
        "from Crypto.Util.Padding import pad\n",
        "def padding(plntxt):\n",
        "  if len(plntxt)==16:\n",
        "    plntxt=plntxt.hex()\n",
        "  else:\n",
        "    plntxt = pad(plntxt,16).hex()  \n",
        "  return plntxt\n",
        "\n",
        "o = 'omar'\n",
        "o = o.encode()\n",
        "print(padding(o))"
      ],
      "metadata": {
        "colab": {
          "base_uri": "https://localhost:8080/"
        },
        "id": "RgWIzQJvemQp",
        "outputId": "19d2d321-ca68-4622-f746-fac77904217f"
      },
      "execution_count": null,
      "outputs": [
        {
          "output_type": "stream",
          "name": "stdout",
          "text": [
            "6f6d61720c0c0c0c0c0c0c0c0c0c0c0c\n"
          ]
        }
      ]
    },
    {
      "cell_type": "code",
      "source": [
        "# create a random IV to be used in the first round of the cbc encryption \n",
        "import random  \n",
        "import string  \n",
        "def randomIV(length):  \n",
        "    sample_string = 'abcdefghijklmnopqrstuvwxyz' # define the specific string  \n",
        "    # define the condition for random string  \n",
        "    result = ''.join((random.choice(sample_string)) for x in range(length))  \n",
        "    return result  \n",
        "  \n",
        "print(randomIV(16))"
      ],
      "metadata": {
        "colab": {
          "base_uri": "https://localhost:8080/"
        },
        "id": "9SLWQBpWU04z",
        "outputId": "ba7401b8-77e2-4da1-af4b-e12fd90fb963"
      },
      "execution_count": null,
      "outputs": [
        {
          "output_type": "stream",
          "name": "stdout",
          "text": [
            "axbogqdzcsuftfmp\n"
          ]
        }
      ]
    },
    {
      "cell_type": "code",
      "source": [
        "def subSet(str):\n",
        "  if len(str)==16:\n",
        "    return str\n",
        "  else:\n",
        "    return str[:16]"
      ],
      "metadata": {
        "id": "9sdt1wVlmxQC"
      },
      "execution_count": null,
      "outputs": []
    },
    {
      "cell_type": "markdown",
      "source": [
        "# **Functions which are used in the AES Encryption process**"
      ],
      "metadata": {
        "id": "yqeuILyjANir"
      }
    },
    {
      "cell_type": "code",
      "source": [
        "#Taking the input (Plain text from the user then converting it to hexadecimal and pushing it into 4x4 matrix with pkcs7 padding)\n",
        "\n",
        "import numpy as np\n",
        "from Crypto.Util.Padding import pad, unpad\n",
        "from copy import deepcopy\n",
        "\n",
        "def makingMatrix(plntxt):\n",
        "\n",
        "  plnTxtLen=len(plntxt)  #length of plain text\n",
        "  plnTxtCopy=deepcopy(plntxt) #Copy of the plain text which will be used later\n",
        "\n",
        "  plnTxtCopy=plnTxtCopy.encode() #changing the plaintext from String to hex string\n",
        "  plnhex = plnTxtCopy.hex()\n",
        "\n",
        "  if(len(plntxt)<16):\n",
        "    plntxtEncoded=plntxt.encode()\n",
        "    padedText = padding(plntxtEncoded)\n",
        "    padedString=str(padedText)\n",
        "    plnhex+=padedString[plnTxtLen+plnTxtLen:]\n",
        "\n",
        "  n = 2\n",
        "  x = [plnhex[i:i+n] for i in range(0, len(plnhex), n)]\n",
        "  my_matrix = np.array(x).reshape(4, 4).T\n",
        "  \n",
        "  return my_matrix\n",
        "\n",
        "\n",
        "print(makingMatrix(\"omaromaromaromar\"))\n",
        "#print(\"61686d6564\")"
      ],
      "metadata": {
        "id": "bo5OkHNYEF7Z",
        "colab": {
          "base_uri": "https://localhost:8080/"
        },
        "outputId": "b706cf31-ecfd-424f-ec5b-058a11121f9c"
      },
      "execution_count": null,
      "outputs": [
        {
          "output_type": "stream",
          "name": "stdout",
          "text": [
            "[['6f' '6f' '6f' '6f']\n",
            " ['6d' '6d' '6d' '6d']\n",
            " ['61' '61' '61' '61']\n",
            " ['72' '72' '72' '72']]\n"
          ]
        }
      ]
    },
    {
      "cell_type": "code",
      "source": [
        "# Key Expansion Function\n",
        "\n",
        "from Crypto.Random import get_random_bytes  #Output has the type of INT\n",
        "\n",
        "def expandKey(cipherKey):\n",
        "\tcipherKeySize = len(cipherKey)\n",
        "\tassert cipherKeySize == 16\n",
        "\texpandedKey = []\n",
        "\tcurrentSize,rconIter = 0,1\n",
        "\n",
        "\tt = [0,0,0,0]\n",
        "\n",
        "\tfor i in range(cipherKeySize):\n",
        "\t\texpandedKey.append(cipherKey[i])\n",
        "\tcurrentSize += cipherKeySize\n",
        "\n",
        "\twhile currentSize < 176:\n",
        "\t\tfor i in range(4):\n",
        "\t\t\tt[i] = expandedKey[(currentSize - 4) + i]\n",
        "\t\tif currentSize % cipherKeySize == 0:\n",
        "\t\t\trconIter += 1\n",
        "\t\tif currentSize % cipherKeySize == 16:\n",
        "\t\t\tfor i in range(4):\n",
        "\t\t\t\tt[i] = s_box[t[i]]\n",
        "\t\tfor i in range(4):\n",
        "\t\t\texpandedKey.append(((expandedKey[currentSize - cipherKeySize]) ^ (t[i])))\n",
        "\t\t\tcurrentSize += 1\n",
        "\treturn expandedKey"
      ],
      "metadata": {
        "id": "2cbvhmnMAi9p"
      },
      "execution_count": null,
      "outputs": []
    },
    {
      "cell_type": "code",
      "source": [
        "#Add Round key\n",
        "\n",
        "def addRoundKey(matrix):\n",
        "  # generating a ranfom key of 16 bytes\n",
        "  key = get_random_bytes(16)\n",
        "  keyExpanded=expandKey(key)\n",
        "  \n",
        "  #converting the input from hex to int\n",
        "  my_matrix=hexToInt(matrix)\n",
        "\n",
        "  resultMatrix = np.arange(16).reshape(4,4)\n",
        "\n",
        "  i=0;j=0;c=0\n",
        "  while j<len(my_matrix):\n",
        "    i=0\n",
        "    while i<4:\n",
        "      hexInt=my_matrix[i][j]\n",
        "      keyInt=keyExpanded[c]\n",
        "      c+=1\n",
        "      a=keyInt^hexInt\n",
        "      resultMatrix[i][j]=a\n",
        "      i+=1\n",
        "    j+=1\n",
        "\n",
        "    finalMatrix=intToHex(resultMatrix)\n",
        "\n",
        "  return finalMatrix"
      ],
      "metadata": {
        "id": "CBoS6O3CH5kR"
      },
      "execution_count": null,
      "outputs": []
    },
    {
      "cell_type": "code",
      "source": [
        "# Byte Substitution Function\n",
        "def subByte(my_matrix):\n",
        "  result=np.array([['00','00','00','00'],\n",
        "                       ['00','00','00','00'],\n",
        "                       ['00','00','00','00'],\n",
        "                       ['00','00','00','00']])\n",
        "  i=0;j=0;\n",
        "  while j<len(my_matrix):\n",
        "    i=0\n",
        "    while i<4:\n",
        "      x= str(my_matrix[i][j])\n",
        "      char0=x[0]\n",
        "      char1=x[1]\n",
        "      char0=indexing(char0)\n",
        "      char1=indexing(char1)\n",
        "      result[i][j]=s_box[char0][char1]\n",
        "      i+=1\n",
        "    j+=1\n",
        "  return result"
      ],
      "metadata": {
        "id": "vIaLi19myBPg"
      },
      "execution_count": null,
      "outputs": []
    },
    {
      "cell_type": "code",
      "source": [
        "# Function for shifting rows\n",
        "from copy import deepcopy\n",
        "def shiftRow(my_matrix):\n",
        "  shiftRowMatrix= deepcopy(my_matrix)\n",
        "  #Each byte of the second row is shifted 1 to the left\n",
        "  shiftRowMatrix[1][0]=str(my_matrix[1][1])\n",
        "  shiftRowMatrix[1][1]=str(my_matrix[1][2])\n",
        "  shiftRowMatrix[1][2]=str(my_matrix[1][3])\n",
        "  shiftRowMatrix[1][3]=str(my_matrix[1][0])\n",
        "  #Each byte of the second row is shifted 3 to the left\n",
        "  shiftRowMatrix[2][0]=str(my_matrix[2][2])\n",
        "  shiftRowMatrix[2][1]=str(my_matrix[2][3])\n",
        "  shiftRowMatrix[2][2]=str(my_matrix[2][0])\n",
        "  shiftRowMatrix[2][3]=str(my_matrix[2][1])\n",
        "  #Each byte of the second row is shifted 3 to the left\n",
        "  shiftRowMatrix[3][0]=str(my_matrix[3][3])\n",
        "  shiftRowMatrix[3][1]=str(my_matrix[3][0])\n",
        "  shiftRowMatrix[3][2]=str(my_matrix[3][1])\n",
        "  shiftRowMatrix[3][3]=str(my_matrix[3][2])\n",
        "  \n",
        "  return shiftRowMatrix"
      ],
      "metadata": {
        "id": "o-qw25Pa2qFI"
      },
      "execution_count": null,
      "outputs": []
    },
    {
      "cell_type": "code",
      "source": [
        "#Function for mix columns\n",
        "\n",
        "import numpy as np\n",
        "\n",
        "resultMatrix = np.arange(16).reshape(4,4)\n",
        "\n",
        "def mixColumns(a, b, c, d,column):\n",
        "    v1=(gmul(a, 2) ^ gmul(b, 3) ^ gmul(c, 1) ^ gmul(d, 1))\n",
        "    v2=(gmul(a, 1) ^ gmul(b, 2) ^ gmul(c, 3) ^ gmul(d, 1))\n",
        "    v3=(gmul(a, 1) ^ gmul(b, 1) ^ gmul(c, 2) ^ gmul(d, 3))\n",
        "    v4=(gmul(a, 3) ^ gmul(b, 1) ^ gmul(c, 1) ^ gmul(d, 2))\n",
        "\n",
        "    resultMatrix[0][column]=v1;resultMatrix[1][column]=v2;resultMatrix[2][column]=v3;resultMatrix[3][column]=v4;\n",
        "    mixMatrix=intToHex(resultMatrix)\n",
        "\n",
        "    return mixMatrix\n",
        "\n",
        "def gmul(a, b):\n",
        "    if b == 1:\n",
        "        return a\n",
        "    tmp = (a << 1) & 0xff\n",
        "    if b == 2:\n",
        "        return tmp if a < 128 else tmp ^ 0x1b\n",
        "    if b == 3:\n",
        "        return gmul(a, 2) ^ a"
      ],
      "metadata": {
        "id": "6VYI9Lu5Aav-"
      },
      "execution_count": null,
      "outputs": []
    },
    {
      "cell_type": "code",
      "source": [
        "import numpy as np\n",
        "def cbcXor(cipher,plntxt):\n",
        "          #matrix,string plaintext\n",
        "  \n",
        "  #converting the input from hex to int\n",
        "\n",
        "  matrix=makingMatrix(plntxt)  #string plain text and push it into a matrix (with hex datatype)\n",
        "  cipherMatrix=makingMatrix(cipher)\n",
        "  my_matrix=hexToInt(matrix)  #changing data typr from hex to int in order to preform xor\n",
        "  my_cipher=hexToInt(cipherMatrix)  #same but for the cipher matrix \n",
        "\n",
        "  resultMatrix = [0,0,0,0,0,0,0,0,0,0,0,0,0,0,0,0] #int matrix which will be filled by the xor values\n",
        "\n",
        "  i=0;j=0;c=0;\n",
        "  while j<len(my_matrix):\n",
        "    i=0\n",
        "    while i<4:\n",
        "      hexInt=my_matrix[i][j]\n",
        "      cipherInt=my_cipher[i][j]\n",
        "      a=cipherInt^hexInt\n",
        "      resultMatrix[c]=a\n",
        "      i+=1\n",
        "      c+=1\n",
        "    j+=1\n",
        "\n",
        "  finalMatrix=np.array([['00','00','00','00'],\n",
        "                       ['00','00','00','00'],\n",
        "                       ['00','00','00','00'],\n",
        "                       ['00','00','00','00']])\n",
        "  i=0;j=0;c=0\n",
        "  while j<len(my_matrix):\n",
        "    i=0\n",
        "    while i<4:\n",
        "      x= (resultMatrix[c])\n",
        "      res = hex(x)\n",
        "      if(len(res)<=3):\n",
        "        char2='0';char3=res[2]\n",
        "      else:\n",
        "        char2=res[2];char3=res[3]\n",
        "      final=char2+char3\n",
        "      finalMatrix[i][j]=final\n",
        "      i+=1\n",
        "      c+=1\n",
        "    j+=1\n",
        "\n",
        "  finalReturn=finalString(finalMatrix) #chaning it to a string to be reuturned\n",
        "\n",
        "  return finalMatrix\n",
        "\n",
        "a=\"chybnlkmnjiuhnbc\"\n",
        "\n",
        "b=\"omaromaromaromar\"\n",
        "\n",
        "print(cbcXor(a,b))"
      ],
      "metadata": {
        "colab": {
          "base_uri": "https://localhost:8080/"
        },
        "id": "DOuYT_CWUUjU",
        "outputId": "237cfe14-80f4-4dd8-da18-4166b5629fc0"
      },
      "execution_count": null,
      "outputs": [
        {
          "output_type": "stream",
          "name": "stdout",
          "text": [
            "[['0c' '01' '01' '07']\n",
            " ['05' '01' '07' '03']\n",
            " ['18' '0a' '08' '03']\n",
            " ['10' '1f' '07' '11']]\n"
          ]
        }
      ]
    },
    {
      "cell_type": "markdown",
      "source": [
        "# **Main Encryption Function**\n",
        "\n",
        "\n",
        "> This is the main encryption function it takes as an input the plain text from the users and outputs a cipher text run this function for AES Encryption \n",
        "\n",
        "\n",
        "\n",
        "\n",
        "\n"
      ],
      "metadata": {
        "id": "AZbtxIRdEwyv"
      }
    },
    {
      "cell_type": "code",
      "source": [
        "# AES encryption function\n",
        "# taking the plain text as an input from user \n",
        "plntxt = input('please enter your plain text: ')\n",
        "print()\n",
        "\n",
        "\n",
        "def encrypt(plntxt):\n",
        " \n",
        "  if type(plntxt)==str:\n",
        "    #converting plaintext to hexa decimal and pushing it into 4x4 matrix\n",
        "    firstMatrix=makingMatrix(plntxt) #hexString datatype\n",
        "\n",
        "  else:\n",
        "      firstMatrix=plntxt\n",
        "\n",
        "  #key expansion is already made in the addRoundKey() function, so there is no need to call it here\n",
        "\n",
        "  #Add round key\n",
        "  AddroundKeyMatrix=addRoundKey(firstMatrix) #hexString datatype\n",
        "\n",
        "  # 10 rounds of aes \n",
        "  i=0\n",
        "  while i<10:\n",
        "\n",
        "    if i==0:\n",
        "      byteSubMatrix=subByte(AddroundKeyMatrix) #calling the byte substitution function\n",
        "    else:\n",
        "      byteSubMatrix=subByte(innerRoundKey)\n",
        "\n",
        "    shiftRowMatrix=shiftRow(byteSubMatrix) #calling the row shifting function\n",
        "    \n",
        "    #Mix columns callouts of the function for each column\n",
        "    a=getValues(0,0,shiftRowMatrix);b=getValues(1,0,shiftRowMatrix);c=getValues(2,0,shiftRowMatrix);d=getValues(3,0,shiftRowMatrix);mixedcolumn=mixColumns(a, b, c, d,0)\n",
        "    a=getValues(0,1,shiftRowMatrix);b=getValues(1,1,shiftRowMatrix);c=getValues(2,1,shiftRowMatrix);d=getValues(3,1,shiftRowMatrix);mixedcolumn=mixColumns(a, b, c, d,1)\n",
        "    a=getValues(0,2,shiftRowMatrix);b=getValues(1,2,shiftRowMatrix);c=getValues(2,2,shiftRowMatrix);d=getValues(3,2,shiftRowMatrix);mixedcolumn=mixColumns(a, b, c, d,2)\n",
        "    a=getValues(0,3,shiftRowMatrix);b=getValues(1,3,shiftRowMatrix);c=getValues(2,3,shiftRowMatrix);d=getValues(3,3,shiftRowMatrix);mixedcolumn=mixColumns(a, b, c, d,3)\n",
        "\n",
        "    #innerloop add round key function\n",
        "    innerRoundKey=addRoundKey(mixedcolumn)\n",
        "\n",
        "    i+=1\n",
        "\n",
        "  #last round without mix columns \n",
        "  subBytesFinal=subByte(innerRoundKey)\n",
        "  shiftRowFinal=shiftRow(subBytesFinal)\n",
        "  addRoundKeyFinal=addRoundKey(shiftRowFinal)\n",
        "\n",
        " #return statment\n",
        "  return  addRoundKeyFinal\n",
        "\n",
        "\n",
        "# print statements for showing the output\n",
        "print(\"Here is your Cipher Matrix:\")\n",
        "print()\n",
        "print(encrypt(plntxt))\n",
        "print()\n",
        "print(\"---------------------------------------------\")\n",
        "print()\n",
        "print(\"Here is your cipher text in the String format: \")\n",
        "print()\n",
        "print(finalString(encrypt(plntxt)))\n",
        "print(\"---------------------------------------------\")\n",
        "print()\n",
        "print(\"Here is your cipher text in the bytes format: \")\n",
        "print()\n",
        "print((finalString(encrypt(plntxt))).encode())"
      ],
      "metadata": {
        "colab": {
          "base_uri": "https://localhost:8080/"
        },
        "id": "Zrq5xXGxE9Fw",
        "outputId": "f189d285-8689-41d2-9389-55ab698f4783"
      },
      "execution_count": null,
      "outputs": [
        {
          "output_type": "stream",
          "name": "stdout",
          "text": [
            "please enter your plain text: Omaromaromaromar\n",
            "\n",
            "Here is your Cipher Matrix:\n",
            "\n",
            "[['7f' '4e' '65' '98']\n",
            " ['55' 'b3' '6c' '6a']\n",
            " ['a7' '57' '77' '98']\n",
            " ['87' 'e2' '6f' '0e']]\n",
            "\n",
            "---------------------------------------------\n",
            "\n",
            "Here is your cipher text in the String format: \n",
            "\n",
            "eea2bad3756bf285b1c381a93c4b2f0e\n",
            "---------------------------------------------\n",
            "\n",
            "Here is your cipher text in the bytes format: \n",
            "\n",
            "b'13b60d3f708878151f861cf345d97120'\n"
          ]
        }
      ]
    },
    {
      "cell_type": "markdown",
      "source": [
        "# **ECB Encryption Mode**\n",
        "\n",
        "\n",
        "> the function works by looping on the plaintext given then divide it into a blocks followed by encryption then looping agian, dividing the block and encrypt an so on\n",
        "\n"
      ],
      "metadata": {
        "id": "1Ovie6277qXg"
      }
    },
    {
      "cell_type": "code",
      "source": [
        "# taking input from the user \n",
        "plntxt=input(\"Please enter the text you wish to be encrypted:   \")\n",
        "print()\n",
        "\n",
        "#ECB Encryption function where we divide the input plaintext to blocks then encrypting each bloack independently \n",
        "def ecb(plntxt):\n",
        "  i=0;j=0;block=\"\";result=\"\";c=len(plntxt)\n",
        "  while j<len(plntxt): #14\n",
        "    \n",
        "    i=0\n",
        "\n",
        "    if(c-j<=15):\n",
        "      while(j<c):\n",
        "          block=block+str(plntxt[j])\n",
        "          j+=1\n",
        "      #encryption takes place here for each block independently     \n",
        "      result=result+(finalString(encrypt(block)))\n",
        "      block=\"\"\n",
        "      break\n",
        "\n",
        "    else:\n",
        "      while i<16:\n",
        "          block=block+str(plntxt[j])\n",
        "          j+=1;i+=1\n",
        "    #encryption takes place here for each block independently \n",
        "    result=result+(finalString(encrypt(block)))\n",
        "    block=\"\"\n",
        "\n",
        "  return \"Here is you cipher Text: \", result\n",
        "\n",
        "print(ecb(plntxt))"
      ],
      "metadata": {
        "colab": {
          "base_uri": "https://localhost:8080/"
        },
        "id": "qpIaKSVK7k8b",
        "outputId": "150c823b-0444-4230-985c-5a0abba85aa1"
      },
      "execution_count": null,
      "outputs": [
        {
          "output_type": "stream",
          "name": "stdout",
          "text": [
            "Please enter the text you wish to be encrypted:   mekkosmaksjsjsjshshmekomakomkkaajsjskskdkdkkdkd\n",
            "\n",
            "('Here is you cipher Text: ', 'fa4a87c68c620a7e8fb7410725a9d77e7fedf7f3a7f022a7b57bf4a96a792e9a118181b8e28f392681776e56eaf61203')\n"
          ]
        }
      ]
    },
    {
      "cell_type": "markdown",
      "source": [
        "# **CBC Encryption**"
      ],
      "metadata": {
        "id": "crAmJIR_XQxw"
      }
    },
    {
      "cell_type": "code",
      "source": [
        "# CBC Encryption \n",
        "from Crypto.Random import get_random_bytes\n",
        "\n",
        "plntxt=input(\"Please enter the text you wish to be encrypted:   \")\n",
        "print()\n",
        "\n",
        "def cbc(plntxt):\n",
        "\n",
        "  iv= randomIV(16)\n",
        "\n",
        "  i=0;j=0;block=\"\";result=\"\";c=len(plntxt);flag=False;cipherText=\"\"\n",
        "  while j<len(plntxt): #14\n",
        "    \n",
        "    i=0\n",
        "\n",
        "    if(c-j<=15): #if less than 16\n",
        "      while(j<c):\n",
        "          block=block+str(plntxt[j])\n",
        "          j+=1\n",
        "      if(flag==False):\n",
        "          blockFinal=cbcXor(iv,block)\n",
        "          flag=True\n",
        "      else:\n",
        "          blockFinal=cbcXor(cipherText,block)\n",
        "\n",
        "      cipherText=subSet(result) \n",
        "      result=result+(finalString(encrypt(blockFinal)))\n",
        "      block=\"\"\n",
        "      break\n",
        "\n",
        "    else: #if more than 16\n",
        "      while i<16:\n",
        "          block=block+str(plntxt[j])\n",
        "          j+=1;i+=1\n",
        "\n",
        "      if(flag==False):\n",
        "       blockFinal=cbcXor(iv,block)\n",
        "       flag=True\n",
        "\n",
        "      else:\n",
        "          blockFinal=cbcXor(cipherText,block)\n",
        "\n",
        "    cipherText=subSet(result)\n",
        "    result=result+(finalString(encrypt(blockFinal)))\n",
        "    block=\"\"\n",
        "\n",
        "  return \"Here is you cipher Text: \", result\n",
        "\n",
        "print(cbc(plntxt))"
      ],
      "metadata": {
        "colab": {
          "base_uri": "https://localhost:8080/"
        },
        "id": "USTDtt_QXUL9",
        "outputId": "9e7b191a-12ce-4f4d-9ca4-5391074b2915"
      },
      "execution_count": null,
      "outputs": [
        {
          "output_type": "stream",
          "name": "stdout",
          "text": [
            "Please enter the text you wish to be encrypted:   fa4a87c68c620a7e8fb7410725a9d77e7fedf7f3a7f022a7b57bf4a96a792e9a118181b8e28f392681776e56eaf61203 fa4a87c68c620a7e8fb7410725a9d77e7fedf7f3a7f022a7b57bf4a96a792e9a118181b8e28f392681776e56eaf61203 fa4a87c68c620a7e8fb7410725a9d77e7fedf7f3a7f022a7b57bf4a96a792e9a118181b8e28f392681776e56eaf61203 fa4a87c68c620a7e8fb7410725a9d77e7fedf7f3a7f022a7b57bf4a96a792e9a118181b8e28f392681776e56eaf61203 fa4a87c68c620a7e8fb7410725a9d77e7fedf7f3a7f022a7b57bf4a96a792e9a118181b8e28f392681776e56eaf61203 fa4a87c68c620a7e8fb7410725a9d77e7fedf7f3a7f022a7b57bf4a96a792e9a118181b8e28f392681776e56eaf61203 fa4a87c68c620a7e8fb7410725a9d77e7fedf7f3a7f022a7b57bf4a96a792e9a118181b8e28f392681776e56eaf61203 fa4a87c68c620a7e8fb7410725a9d77e7fedf7f3a7f022a7b57bf4a96a792e9a118181b8e28f392681776e56eaf61203 fa4a87c68c620a7e8fb7410725a9d77e7fedf7f3a7f022a7b57bf4a96a792e9a118181b8e28f392681776e56eaf61203\n",
            "\n",
            "('Here is you cipher Text: ', '9eeef79556043cd93569554473a049f22e89ae1e4e57939ed819990e94d214b829d8ec3de15f957dd4126613691be7fbad73104d759b000d3b94a32f545302da620f2a8b0ba546502d1aa7f13cced380719d4f4d57d826d2b2ef7d0be39c39c64672f619c040a27dcb83822e429309e951bf39dcd7cc65edf05486a8f2ebf967d995a962bd6d7c58b156bd2323786f20209083028a3c8ea01cf07ddaff26490896450821b4fbf6e50052cd6bd803cc40cd3bf9e71ec62f1b32125d817b232fd3210f2600ff72b45d1b469fde2819cd6d4e28724a3fb257b30f1b8a5796fa06a25969710702d486c687c53fa30a5fd05094d3c5ec34fe0866b35471f0b4553dc0fe179884f221278f63e0899fbfb0613da4bd1e2e3bf36842618491d0a8341094238fcae047197ab7144ea49efb27e8158188e1a0a9a4f9d3903f909af64ccfc0762c0b6fc326e343f9aac1d903bee0cf03599822e72523fe9547e72f7b0b80a0bedb77bcdf96252dde605071682e4abf3604ce17938d592df15879b0605419a6e2bd467d895566a95ab0add2477aa5de1fd517e2f8232c586f44c758028989970a8d4456c829e4555ec7583620a5aef56b9891c07eab91451d7abe1f68ee1e053ba8bcd9172e12bdc66c81ff6a2fd964e7eaee8014ebb6b355e2eebe0fe8278c0766e725d08636179265af61463240fbd38a2d2d0fdee2beefd17735c2267f5494f33fd40a5997ba29727c2e7825e8bcf505ff18c2751cbbb2ce5a0ca5e7772a11ef1a5041362690868cfd09f0069f801ce1b1e32ab27f2b11b2a558596590cf778c4c1e8f99025882b17695d6f96a85e42a6864f8fc7ea012ac56a5a6302553557f80c12ff1496510a5852ad59c361c0b74199032399ef88c504761b9997989f445ace739cce7dc10a8527e1073aa912bef37c6eb9f3a68a2695e8fe9a7a1c130ea0c89b8831ae5e195d3e3106e52189d0ff955881e2e82a9b55b569b760f990e4f4caf97f45377b5f8cda97a10cac651dbd4644bc6b684aa30914eb00cbf7e7e3eb8eca88534e9971808fcece7608a523b2c1f8672113a8d1c21f58555d6213e07233d57723db647a30746f17fce8a8ab73e7e753200c2b069501fa430c73b53ccfaa81aeded6610911a2a1bfcc42009c57e9154ac92d21c94d48e0480a571d20e773641d3316421c9d76c6f7718fea98d2bb8c31b2a245e942fe7361fe35624a48bfb91999072470d75caeba77cab')\n"
          ]
        }
      ]
    }
  ]
}